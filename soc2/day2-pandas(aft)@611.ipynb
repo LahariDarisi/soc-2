{
 "cells": [
  {
   "cell_type": "code",
   "execution_count": null,
   "id": "a87a1cb1",
   "metadata": {},
   "outputs": [],
   "source": [
    "#pandas\n",
    "import pandas as pd\n",
    "#pandas is defines as a open source library that provides\n",
    "#high-performance data manipulation in python\n",
    "#Data analysis requires lot of processing such an restructing,cleaning,mergin,manipulating etc...We prefer Pandas to\n",
    "#perform above functionalities coz it is fast,simple than other tools.\n",
    "#pandas is built on numpy,numpy is required for operating pandas."
   ]
  },
  {
   "cell_type": "code",
   "execution_count": null,
   "id": "f5f60e88",
   "metadata": {},
   "outputs": [],
   "source": [
    "#Pandas series\n",
    "#pandas series s a data structure with one\n",
    "#dimensional labelled array .It is a primary buliding block of Dataframe,\n",
    "#making its rows and columns."
   ]
  },
  {
   "cell_type": "code",
   "execution_count": 2,
   "id": "eba2a573",
   "metadata": {},
   "outputs": [],
   "source": [
    "import numpy as np\n",
    "labels=['a','b','c']\n",
    "my_data=[10,20,30]\n",
    "arr=np.array(my_data)\n",
    "d={'a':100,'b':200,'c':300}"
   ]
  },
  {
   "cell_type": "code",
   "execution_count": 5,
   "id": "d7f53bf7",
   "metadata": {},
   "outputs": [
    {
     "data": {
      "text/plain": [
       "0    10\n",
       "1    20\n",
       "2    30\n",
       "dtype: int64"
      ]
     },
     "execution_count": 5,
     "metadata": {},
     "output_type": "execute_result"
    }
   ],
   "source": [
    "#Syntax-->pandas.Series(data=None,index=None,dtype=None,name=None,copy=True or False)\n",
    "#eg_1\n",
    "import pandas as pd\n",
    "pd.Series(my_data)"
   ]
  },
  {
   "cell_type": "code",
   "execution_count": 6,
   "id": "8b00e0c0",
   "metadata": {},
   "outputs": [
    {
     "data": {
      "text/plain": [
       "pandas.core.series.Series"
      ]
     },
     "execution_count": 6,
     "metadata": {},
     "output_type": "execute_result"
    }
   ],
   "source": [
    "type(pd.Series(my_data))"
   ]
  },
  {
   "cell_type": "code",
   "execution_count": 7,
   "id": "4e393cb5",
   "metadata": {},
   "outputs": [
    {
     "data": {
      "text/plain": [
       "a    10\n",
       "b    20\n",
       "c    30\n",
       "dtype: int64"
      ]
     },
     "execution_count": 7,
     "metadata": {},
     "output_type": "execute_result"
    }
   ],
   "source": [
    "#Series with labells\n",
    "pd.Series(data=my_data,index=labels)\n",
    "#or\n",
    "pd.series(my_data,labels)"
   ]
  },
  {
   "cell_type": "code",
   "execution_count": 8,
   "id": "7819bc16",
   "metadata": {},
   "outputs": [
    {
     "data": {
      "text/plain": [
       "0    <built-in function print>\n",
       "1      <built-in function len>\n",
       "2      <built-in function sum>\n",
       "dtype: object"
      ]
     },
     "execution_count": 8,
     "metadata": {},
     "output_type": "execute_result"
    }
   ],
   "source": [
    "pd.Series(data=[print,len,sum])"
   ]
  },
  {
   "cell_type": "code",
   "execution_count": 12,
   "id": "8e719994",
   "metadata": {},
   "outputs": [
    {
     "name": "stdout",
     "output_type": "stream",
     "text": [
      "GOOD MORNING\n"
     ]
    }
   ],
   "source": [
    "def decor(func):\n",
    "    def inner():\n",
    "        str1=func()\n",
    "        return str1.upper()\n",
    "    return inner\n",
    "\n",
    "@decor\n",
    "\n",
    "def greet():\n",
    "    return\"good morning\"\n",
    "print((greet()))\n"
   ]
  },
  {
   "cell_type": "code",
   "execution_count": 14,
   "id": "b2dbd355",
   "metadata": {},
   "outputs": [
    {
     "data": {
      "text/plain": [
       "USA       1\n",
       "India     2\n",
       "Canada    3\n",
       "UK        4\n",
       "Egypt     5\n",
       "dtype: int64"
      ]
     },
     "execution_count": 14,
     "metadata": {},
     "output_type": "execute_result"
    }
   ],
   "source": [
    "ser1=pd.Series([1,2,3,4,5],[\"USA\",\"India\",\"Canada\",\"UK\",\"Egypt\"])\n",
    "ser1"
   ]
  },
  {
   "cell_type": "code",
   "execution_count": 15,
   "id": "782ab282",
   "metadata": {},
   "outputs": [
    {
     "data": {
      "text/plain": [
       "1"
      ]
     },
     "execution_count": 15,
     "metadata": {},
     "output_type": "execute_result"
    }
   ],
   "source": [
    "ser1['USA']"
   ]
  },
  {
   "cell_type": "code",
   "execution_count": 16,
   "id": "70f5f281",
   "metadata": {},
   "outputs": [
    {
     "data": {
      "text/plain": [
       "1"
      ]
     },
     "execution_count": 16,
     "metadata": {},
     "output_type": "execute_result"
    }
   ],
   "source": [
    "ser1[0]"
   ]
  },
  {
   "cell_type": "code",
   "execution_count": 17,
   "id": "f9c733e3",
   "metadata": {},
   "outputs": [
    {
     "data": {
      "text/plain": [
       "USA       1\n",
       "India     2\n",
       "Canada    3\n",
       "dtype: int64"
      ]
     },
     "execution_count": 17,
     "metadata": {},
     "output_type": "execute_result"
    }
   ],
   "source": [
    "#access values using indexing\n",
    "ser1[0:3]"
   ]
  },
  {
   "cell_type": "code",
   "execution_count": 18,
   "id": "efce991c",
   "metadata": {},
   "outputs": [
    {
     "data": {
      "text/plain": [
       "Brazil     NaN\n",
       "Canada    10.0\n",
       "Egypt      NaN\n",
       "India      NaN\n",
       "UK        12.0\n",
       "USA        6.0\n",
       "dtype: float64"
      ]
     },
     "execution_count": 18,
     "metadata": {},
     "output_type": "execute_result"
    }
   ],
   "source": [
    "ser2=pd.Series([5,6,7,8],[\"USA\",\"Brazil\",\"Canada\",\"UK\"])\n",
    "ser1+ser2"
   ]
  },
  {
   "cell_type": "code",
   "execution_count": 19,
   "id": "a427e715",
   "metadata": {},
   "outputs": [
    {
     "data": {
      "text/plain": [
       "USA       5\n",
       "Brazil    6\n",
       "Canada    7\n",
       "UK        8\n",
       "dtype: int64"
      ]
     },
     "execution_count": 19,
     "metadata": {},
     "output_type": "execute_result"
    }
   ],
   "source": [
    "#To create a new data in series\n",
    "ser2"
   ]
  },
  {
   "cell_type": "code",
   "execution_count": 20,
   "id": "5eea829a",
   "metadata": {},
   "outputs": [
    {
     "data": {
      "text/plain": [
       "USA               5\n",
       "Brazil            6\n",
       "Canada            7\n",
       "UK                8\n",
       "china     duplicate\n",
       "dtype: object"
      ]
     },
     "execution_count": 20,
     "metadata": {},
     "output_type": "execute_result"
    }
   ],
   "source": [
    "ser2['china']='duplicate'\n",
    "ser2"
   ]
  },
  {
   "cell_type": "code",
   "execution_count": 21,
   "id": "f96d1717",
   "metadata": {},
   "outputs": [],
   "source": [
    "#DataFrame\n",
    "#pd.DataFrame(datas,row_label,col_label)"
   ]
  },
  {
   "cell_type": "code",
   "execution_count": 23,
   "id": "9b6a8950",
   "metadata": {},
   "outputs": [
    {
     "data": {
      "text/html": [
       "<div>\n",
       "<style scoped>\n",
       "    .dataframe tbody tr th:only-of-type {\n",
       "        vertical-align: middle;\n",
       "    }\n",
       "\n",
       "    .dataframe tbody tr th {\n",
       "        vertical-align: top;\n",
       "    }\n",
       "\n",
       "    .dataframe thead th {\n",
       "        text-align: right;\n",
       "    }\n",
       "</style>\n",
       "<table border=\"1\" class=\"dataframe\">\n",
       "  <thead>\n",
       "    <tr style=\"text-align: right;\">\n",
       "      <th></th>\n",
       "      <th>0</th>\n",
       "      <th>1</th>\n",
       "      <th>2</th>\n",
       "      <th>3</th>\n",
       "    </tr>\n",
       "  </thead>\n",
       "  <tbody>\n",
       "    <tr>\n",
       "      <th>0</th>\n",
       "      <td>1.909999</td>\n",
       "      <td>0.529573</td>\n",
       "      <td>1.235612</td>\n",
       "      <td>-0.530125</td>\n",
       "    </tr>\n",
       "    <tr>\n",
       "      <th>1</th>\n",
       "      <td>1.358005</td>\n",
       "      <td>0.415071</td>\n",
       "      <td>-2.126308</td>\n",
       "      <td>-1.190360</td>\n",
       "    </tr>\n",
       "    <tr>\n",
       "      <th>2</th>\n",
       "      <td>1.920648</td>\n",
       "      <td>2.196516</td>\n",
       "      <td>0.122437</td>\n",
       "      <td>0.165810</td>\n",
       "    </tr>\n",
       "    <tr>\n",
       "      <th>3</th>\n",
       "      <td>0.846591</td>\n",
       "      <td>1.065711</td>\n",
       "      <td>0.648277</td>\n",
       "      <td>-1.523049</td>\n",
       "    </tr>\n",
       "    <tr>\n",
       "      <th>4</th>\n",
       "      <td>1.488054</td>\n",
       "      <td>-0.303029</td>\n",
       "      <td>-0.402163</td>\n",
       "      <td>-1.139139</td>\n",
       "    </tr>\n",
       "  </tbody>\n",
       "</table>\n",
       "</div>"
      ],
      "text/plain": [
       "          0         1         2         3\n",
       "0  1.909999  0.529573  1.235612 -0.530125\n",
       "1  1.358005  0.415071 -2.126308 -1.190360\n",
       "2  1.920648  2.196516  0.122437  0.165810\n",
       "3  0.846591  1.065711  0.648277 -1.523049\n",
       "4  1.488054 -0.303029 -0.402163 -1.139139"
      ]
     },
     "execution_count": 23,
     "metadata": {},
     "output_type": "execute_result"
    }
   ],
   "source": [
    "df=pd.DataFrame(np.random.randn(5,4))\n",
    "df"
   ]
  },
  {
   "cell_type": "code",
   "execution_count": 31,
   "id": "dd94334c",
   "metadata": {},
   "outputs": [
    {
     "data": {
      "text/html": [
       "<div>\n",
       "<style scoped>\n",
       "    .dataframe tbody tr th:only-of-type {\n",
       "        vertical-align: middle;\n",
       "    }\n",
       "\n",
       "    .dataframe tbody tr th {\n",
       "        vertical-align: top;\n",
       "    }\n",
       "\n",
       "    .dataframe thead th {\n",
       "        text-align: right;\n",
       "    }\n",
       "</style>\n",
       "<table border=\"1\" class=\"dataframe\">\n",
       "  <thead>\n",
       "    <tr style=\"text-align: right;\">\n",
       "      <th></th>\n",
       "      <th>w</th>\n",
       "      <th>x</th>\n",
       "      <th>y</th>\n",
       "      <th>z</th>\n",
       "    </tr>\n",
       "  </thead>\n",
       "  <tbody>\n",
       "    <tr>\n",
       "      <th>A</th>\n",
       "      <td>0.678273</td>\n",
       "      <td>0.199769</td>\n",
       "      <td>-1.656381</td>\n",
       "      <td>-0.691978</td>\n",
       "    </tr>\n",
       "    <tr>\n",
       "      <th>B</th>\n",
       "      <td>-1.545973</td>\n",
       "      <td>0.604795</td>\n",
       "      <td>2.113241</td>\n",
       "      <td>-0.356914</td>\n",
       "    </tr>\n",
       "    <tr>\n",
       "      <th>C</th>\n",
       "      <td>0.559571</td>\n",
       "      <td>-1.458435</td>\n",
       "      <td>0.507670</td>\n",
       "      <td>0.120042</td>\n",
       "    </tr>\n",
       "    <tr>\n",
       "      <th>D</th>\n",
       "      <td>-0.734461</td>\n",
       "      <td>1.313855</td>\n",
       "      <td>-1.825820</td>\n",
       "      <td>0.083079</td>\n",
       "    </tr>\n",
       "    <tr>\n",
       "      <th>E</th>\n",
       "      <td>-0.393511</td>\n",
       "      <td>0.224873</td>\n",
       "      <td>0.725181</td>\n",
       "      <td>0.491304</td>\n",
       "    </tr>\n",
       "  </tbody>\n",
       "</table>\n",
       "</div>"
      ],
      "text/plain": [
       "          w         x         y         z\n",
       "A  0.678273  0.199769 -1.656381 -0.691978\n",
       "B -1.545973  0.604795  2.113241 -0.356914\n",
       "C  0.559571 -1.458435  0.507670  0.120042\n",
       "D -0.734461  1.313855 -1.825820  0.083079\n",
       "E -0.393511  0.224873  0.725181  0.491304"
      ]
     },
     "execution_count": 31,
     "metadata": {},
     "output_type": "execute_result"
    }
   ],
   "source": [
    "df=pd.DataFrame(np.random.randn(5,4),['A','B','C','D','E'],['w','x','y','z'])\n",
    "df"
   ]
  },
  {
   "cell_type": "code",
   "execution_count": 30,
   "id": "1fa0bdce",
   "metadata": {},
   "outputs": [
    {
     "name": "stdout",
     "output_type": "stream",
     "text": [
      "{'col1': [1, 2], 'col2': [3, 40], 'col3': [5, 6]}\n",
      "\n",
      "       col1  col2  col3\n",
      "row1     1     3     5\n",
      "row2     2    40     6\n"
     ]
    }
   ],
   "source": [
    "#To convert dictionary to DataFrame\n",
    "d={\"col1\":[1,2],\"col2\":[3,40],\"col3\":[5,6]}\n",
    "print(d)\n",
    "df=pd.DataFrame(d,['row1','row2'])\n",
    "print(\"\\n\",df)"
   ]
  },
  {
   "cell_type": "code",
   "execution_count": 33,
   "id": "65adc8c3",
   "metadata": {},
   "outputs": [
    {
     "data": {
      "text/html": [
       "<div>\n",
       "<style scoped>\n",
       "    .dataframe tbody tr th:only-of-type {\n",
       "        vertical-align: middle;\n",
       "    }\n",
       "\n",
       "    .dataframe tbody tr th {\n",
       "        vertical-align: top;\n",
       "    }\n",
       "\n",
       "    .dataframe thead th {\n",
       "        text-align: right;\n",
       "    }\n",
       "</style>\n",
       "<table border=\"1\" class=\"dataframe\">\n",
       "  <thead>\n",
       "    <tr style=\"text-align: right;\">\n",
       "      <th></th>\n",
       "      <th>A</th>\n",
       "      <th>B</th>\n",
       "      <th>C</th>\n",
       "      <th>D</th>\n",
       "      <th>E</th>\n",
       "    </tr>\n",
       "  </thead>\n",
       "  <tbody>\n",
       "    <tr>\n",
       "      <th>w</th>\n",
       "      <td>0.678273</td>\n",
       "      <td>-1.545973</td>\n",
       "      <td>0.559571</td>\n",
       "      <td>-0.734461</td>\n",
       "      <td>-0.393511</td>\n",
       "    </tr>\n",
       "    <tr>\n",
       "      <th>x</th>\n",
       "      <td>0.199769</td>\n",
       "      <td>0.604795</td>\n",
       "      <td>-1.458435</td>\n",
       "      <td>1.313855</td>\n",
       "      <td>0.224873</td>\n",
       "    </tr>\n",
       "    <tr>\n",
       "      <th>y</th>\n",
       "      <td>-1.656381</td>\n",
       "      <td>2.113241</td>\n",
       "      <td>0.507670</td>\n",
       "      <td>-1.825820</td>\n",
       "      <td>0.725181</td>\n",
       "    </tr>\n",
       "    <tr>\n",
       "      <th>z</th>\n",
       "      <td>-0.691978</td>\n",
       "      <td>-0.356914</td>\n",
       "      <td>0.120042</td>\n",
       "      <td>0.083079</td>\n",
       "      <td>0.491304</td>\n",
       "    </tr>\n",
       "  </tbody>\n",
       "</table>\n",
       "</div>"
      ],
      "text/plain": [
       "          A         B         C         D         E\n",
       "w  0.678273 -1.545973  0.559571 -0.734461 -0.393511\n",
       "x  0.199769  0.604795 -1.458435  1.313855  0.224873\n",
       "y -1.656381  2.113241  0.507670 -1.825820  0.725181\n",
       "z -0.691978 -0.356914  0.120042  0.083079  0.491304"
      ]
     },
     "execution_count": 33,
     "metadata": {},
     "output_type": "execute_result"
    }
   ],
   "source": [
    "df.T"
   ]
  },
  {
   "cell_type": "code",
   "execution_count": 35,
   "id": "436f3c65",
   "metadata": {},
   "outputs": [
    {
     "data": {
      "text/plain": [
       "pandas.core.frame.DataFrame"
      ]
     },
     "execution_count": 35,
     "metadata": {},
     "output_type": "execute_result"
    }
   ],
   "source": [
    "df.index#-->to get all the row names\n",
    "df.columns\n",
    "type(df)"
   ]
  },
  {
   "cell_type": "code",
   "execution_count": 36,
   "id": "24dbf9ad",
   "metadata": {},
   "outputs": [
    {
     "data": {
      "text/plain": [
       "w    float64\n",
       "x    float64\n",
       "y    float64\n",
       "z    float64\n",
       "dtype: object"
      ]
     },
     "execution_count": 36,
     "metadata": {},
     "output_type": "execute_result"
    }
   ],
   "source": [
    "df.dtypes"
   ]
  },
  {
   "cell_type": "code",
   "execution_count": 37,
   "id": "552d7318",
   "metadata": {},
   "outputs": [
    {
     "name": "stdout",
     "output_type": "stream",
     "text": [
      "<class 'pandas.core.frame.DataFrame'>\n",
      "Index: 5 entries, A to E\n",
      "Data columns (total 4 columns):\n",
      " #   Column  Non-Null Count  Dtype  \n",
      "---  ------  --------------  -----  \n",
      " 0   w       5 non-null      float64\n",
      " 1   x       5 non-null      float64\n",
      " 2   y       5 non-null      float64\n",
      " 3   z       5 non-null      float64\n",
      "dtypes: float64(4)\n",
      "memory usage: 372.0+ bytes\n"
     ]
    }
   ],
   "source": [
    "df.info()"
   ]
  },
  {
   "cell_type": "code",
   "execution_count": 38,
   "id": "d66241c0",
   "metadata": {},
   "outputs": [
    {
     "data": {
      "text/plain": [
       "array([[ 0.67827257,  0.199769  , -1.65638055, -0.69197827],\n",
       "       [-1.54597268,  0.60479513,  2.11324105, -0.35691387],\n",
       "       [ 0.55957111, -1.45843466,  0.50766997,  0.1200417 ],\n",
       "       [-0.73446142,  1.31385464, -1.82582042,  0.08307917],\n",
       "       [-0.39351067,  0.22487278,  0.72518053,  0.49130382]])"
      ]
     },
     "execution_count": 38,
     "metadata": {},
     "output_type": "execute_result"
    }
   ],
   "source": [
    "df.values"
   ]
  },
  {
   "cell_type": "code",
   "execution_count": 39,
   "id": "68703de6",
   "metadata": {},
   "outputs": [
    {
     "data": {
      "text/plain": [
       "[Index(['A', 'B', 'C', 'D', 'E'], dtype='object'),\n",
       " Index(['w', 'x', 'y', 'z'], dtype='object')]"
      ]
     },
     "execution_count": 39,
     "metadata": {},
     "output_type": "execute_result"
    }
   ],
   "source": [
    "df.axes"
   ]
  },
  {
   "cell_type": "code",
   "execution_count": 40,
   "id": "2751a268",
   "metadata": {},
   "outputs": [
    {
     "data": {
      "text/plain": [
       "2"
      ]
     },
     "execution_count": 40,
     "metadata": {},
     "output_type": "execute_result"
    }
   ],
   "source": [
    "df.ndim"
   ]
  },
  {
   "cell_type": "code",
   "execution_count": 41,
   "id": "12638b68",
   "metadata": {},
   "outputs": [
    {
     "data": {
      "text/plain": [
       "20"
      ]
     },
     "execution_count": 41,
     "metadata": {},
     "output_type": "execute_result"
    }
   ],
   "source": [
    "df.size"
   ]
  },
  {
   "cell_type": "code",
   "execution_count": 42,
   "id": "1304ad7f",
   "metadata": {},
   "outputs": [
    {
     "data": {
      "text/plain": [
       "A    0.678273\n",
       "B   -1.545973\n",
       "C    0.559571\n",
       "D   -0.734461\n",
       "E   -0.393511\n",
       "Name: w, dtype: float64"
      ]
     },
     "execution_count": 42,
     "metadata": {},
     "output_type": "execute_result"
    }
   ],
   "source": [
    "#To access specific column in df\n",
    "df['w']"
   ]
  },
  {
   "cell_type": "code",
   "execution_count": 43,
   "id": "ccc65e64",
   "metadata": {},
   "outputs": [
    {
     "data": {
      "text/plain": [
       "pandas.core.series.Series"
      ]
     },
     "execution_count": 43,
     "metadata": {},
     "output_type": "execute_result"
    }
   ],
   "source": [
    "type(df['w'])"
   ]
  },
  {
   "cell_type": "code",
   "execution_count": 45,
   "id": "c8242cd3",
   "metadata": {},
   "outputs": [
    {
     "data": {
      "text/html": [
       "<div>\n",
       "<style scoped>\n",
       "    .dataframe tbody tr th:only-of-type {\n",
       "        vertical-align: middle;\n",
       "    }\n",
       "\n",
       "    .dataframe tbody tr th {\n",
       "        vertical-align: top;\n",
       "    }\n",
       "\n",
       "    .dataframe thead th {\n",
       "        text-align: right;\n",
       "    }\n",
       "</style>\n",
       "<table border=\"1\" class=\"dataframe\">\n",
       "  <thead>\n",
       "    <tr style=\"text-align: right;\">\n",
       "      <th></th>\n",
       "      <th>w</th>\n",
       "      <th>x</th>\n",
       "      <th>y</th>\n",
       "    </tr>\n",
       "  </thead>\n",
       "  <tbody>\n",
       "    <tr>\n",
       "      <th>A</th>\n",
       "      <td>0.678273</td>\n",
       "      <td>0.199769</td>\n",
       "      <td>-1.656381</td>\n",
       "    </tr>\n",
       "    <tr>\n",
       "      <th>B</th>\n",
       "      <td>-1.545973</td>\n",
       "      <td>0.604795</td>\n",
       "      <td>2.113241</td>\n",
       "    </tr>\n",
       "    <tr>\n",
       "      <th>C</th>\n",
       "      <td>0.559571</td>\n",
       "      <td>-1.458435</td>\n",
       "      <td>0.507670</td>\n",
       "    </tr>\n",
       "    <tr>\n",
       "      <th>D</th>\n",
       "      <td>-0.734461</td>\n",
       "      <td>1.313855</td>\n",
       "      <td>-1.825820</td>\n",
       "    </tr>\n",
       "    <tr>\n",
       "      <th>E</th>\n",
       "      <td>-0.393511</td>\n",
       "      <td>0.224873</td>\n",
       "      <td>0.725181</td>\n",
       "    </tr>\n",
       "  </tbody>\n",
       "</table>\n",
       "</div>"
      ],
      "text/plain": [
       "          w         x         y\n",
       "A  0.678273  0.199769 -1.656381\n",
       "B -1.545973  0.604795  2.113241\n",
       "C  0.559571 -1.458435  0.507670\n",
       "D -0.734461  1.313855 -1.825820\n",
       "E -0.393511  0.224873  0.725181"
      ]
     },
     "execution_count": 45,
     "metadata": {},
     "output_type": "execute_result"
    }
   ],
   "source": [
    "#to access multiple columns\n",
    "df[['w','x','y']]\n"
   ]
  },
  {
   "cell_type": "code",
   "execution_count": 46,
   "id": "35d8e840",
   "metadata": {},
   "outputs": [
    {
     "data": {
      "text/html": [
       "<div>\n",
       "<style scoped>\n",
       "    .dataframe tbody tr th:only-of-type {\n",
       "        vertical-align: middle;\n",
       "    }\n",
       "\n",
       "    .dataframe tbody tr th {\n",
       "        vertical-align: top;\n",
       "    }\n",
       "\n",
       "    .dataframe thead th {\n",
       "        text-align: right;\n",
       "    }\n",
       "</style>\n",
       "<table border=\"1\" class=\"dataframe\">\n",
       "  <thead>\n",
       "    <tr style=\"text-align: right;\">\n",
       "      <th></th>\n",
       "      <th>w</th>\n",
       "      <th>x</th>\n",
       "      <th>y</th>\n",
       "      <th>z</th>\n",
       "      <th>new</th>\n",
       "    </tr>\n",
       "  </thead>\n",
       "  <tbody>\n",
       "    <tr>\n",
       "      <th>A</th>\n",
       "      <td>0.678273</td>\n",
       "      <td>0.199769</td>\n",
       "      <td>-1.656381</td>\n",
       "      <td>-0.691978</td>\n",
       "      <td>-0.978108</td>\n",
       "    </tr>\n",
       "    <tr>\n",
       "      <th>B</th>\n",
       "      <td>-1.545973</td>\n",
       "      <td>0.604795</td>\n",
       "      <td>2.113241</td>\n",
       "      <td>-0.356914</td>\n",
       "      <td>0.567268</td>\n",
       "    </tr>\n",
       "    <tr>\n",
       "      <th>C</th>\n",
       "      <td>0.559571</td>\n",
       "      <td>-1.458435</td>\n",
       "      <td>0.507670</td>\n",
       "      <td>0.120042</td>\n",
       "      <td>1.067241</td>\n",
       "    </tr>\n",
       "    <tr>\n",
       "      <th>D</th>\n",
       "      <td>-0.734461</td>\n",
       "      <td>1.313855</td>\n",
       "      <td>-1.825820</td>\n",
       "      <td>0.083079</td>\n",
       "      <td>-2.560282</td>\n",
       "    </tr>\n",
       "    <tr>\n",
       "      <th>E</th>\n",
       "      <td>-0.393511</td>\n",
       "      <td>0.224873</td>\n",
       "      <td>0.725181</td>\n",
       "      <td>0.491304</td>\n",
       "      <td>0.331670</td>\n",
       "    </tr>\n",
       "  </tbody>\n",
       "</table>\n",
       "</div>"
      ],
      "text/plain": [
       "          w         x         y         z       new\n",
       "A  0.678273  0.199769 -1.656381 -0.691978 -0.978108\n",
       "B -1.545973  0.604795  2.113241 -0.356914  0.567268\n",
       "C  0.559571 -1.458435  0.507670  0.120042  1.067241\n",
       "D -0.734461  1.313855 -1.825820  0.083079 -2.560282\n",
       "E -0.393511  0.224873  0.725181  0.491304  0.331670"
      ]
     },
     "execution_count": 46,
     "metadata": {},
     "output_type": "execute_result"
    }
   ],
   "source": [
    "#To create new column\n",
    "df['new']=df['w']+df['y']\n",
    "df"
   ]
  },
  {
   "cell_type": "code",
   "execution_count": 47,
   "id": "4475bb57",
   "metadata": {},
   "outputs": [
    {
     "data": {
      "text/html": [
       "<div>\n",
       "<style scoped>\n",
       "    .dataframe tbody tr th:only-of-type {\n",
       "        vertical-align: middle;\n",
       "    }\n",
       "\n",
       "    .dataframe tbody tr th {\n",
       "        vertical-align: top;\n",
       "    }\n",
       "\n",
       "    .dataframe thead th {\n",
       "        text-align: right;\n",
       "    }\n",
       "</style>\n",
       "<table border=\"1\" class=\"dataframe\">\n",
       "  <thead>\n",
       "    <tr style=\"text-align: right;\">\n",
       "      <th></th>\n",
       "      <th>w</th>\n",
       "      <th>x</th>\n",
       "      <th>y</th>\n",
       "      <th>z</th>\n",
       "    </tr>\n",
       "  </thead>\n",
       "  <tbody>\n",
       "    <tr>\n",
       "      <th>A</th>\n",
       "      <td>0.678273</td>\n",
       "      <td>0.199769</td>\n",
       "      <td>-1.656381</td>\n",
       "      <td>-0.691978</td>\n",
       "    </tr>\n",
       "    <tr>\n",
       "      <th>B</th>\n",
       "      <td>-1.545973</td>\n",
       "      <td>0.604795</td>\n",
       "      <td>2.113241</td>\n",
       "      <td>-0.356914</td>\n",
       "    </tr>\n",
       "    <tr>\n",
       "      <th>C</th>\n",
       "      <td>0.559571</td>\n",
       "      <td>-1.458435</td>\n",
       "      <td>0.507670</td>\n",
       "      <td>0.120042</td>\n",
       "    </tr>\n",
       "    <tr>\n",
       "      <th>D</th>\n",
       "      <td>-0.734461</td>\n",
       "      <td>1.313855</td>\n",
       "      <td>-1.825820</td>\n",
       "      <td>0.083079</td>\n",
       "    </tr>\n",
       "    <tr>\n",
       "      <th>E</th>\n",
       "      <td>-0.393511</td>\n",
       "      <td>0.224873</td>\n",
       "      <td>0.725181</td>\n",
       "      <td>0.491304</td>\n",
       "    </tr>\n",
       "  </tbody>\n",
       "</table>\n",
       "</div>"
      ],
      "text/plain": [
       "          w         x         y         z\n",
       "A  0.678273  0.199769 -1.656381 -0.691978\n",
       "B -1.545973  0.604795  2.113241 -0.356914\n",
       "C  0.559571 -1.458435  0.507670  0.120042\n",
       "D -0.734461  1.313855 -1.825820  0.083079\n",
       "E -0.393511  0.224873  0.725181  0.491304"
      ]
     },
     "execution_count": 47,
     "metadata": {},
     "output_type": "execute_result"
    }
   ],
   "source": [
    "df.drop('new',axis=1)#to delete new temporarily "
   ]
  },
  {
   "cell_type": "code",
   "execution_count": 48,
   "id": "b622ccdf",
   "metadata": {},
   "outputs": [
    {
     "data": {
      "text/html": [
       "<div>\n",
       "<style scoped>\n",
       "    .dataframe tbody tr th:only-of-type {\n",
       "        vertical-align: middle;\n",
       "    }\n",
       "\n",
       "    .dataframe tbody tr th {\n",
       "        vertical-align: top;\n",
       "    }\n",
       "\n",
       "    .dataframe thead th {\n",
       "        text-align: right;\n",
       "    }\n",
       "</style>\n",
       "<table border=\"1\" class=\"dataframe\">\n",
       "  <thead>\n",
       "    <tr style=\"text-align: right;\">\n",
       "      <th></th>\n",
       "      <th>w</th>\n",
       "      <th>x</th>\n",
       "      <th>y</th>\n",
       "      <th>z</th>\n",
       "      <th>new</th>\n",
       "    </tr>\n",
       "  </thead>\n",
       "  <tbody>\n",
       "    <tr>\n",
       "      <th>A</th>\n",
       "      <td>0.678273</td>\n",
       "      <td>0.199769</td>\n",
       "      <td>-1.656381</td>\n",
       "      <td>-0.691978</td>\n",
       "      <td>-0.978108</td>\n",
       "    </tr>\n",
       "    <tr>\n",
       "      <th>B</th>\n",
       "      <td>-1.545973</td>\n",
       "      <td>0.604795</td>\n",
       "      <td>2.113241</td>\n",
       "      <td>-0.356914</td>\n",
       "      <td>0.567268</td>\n",
       "    </tr>\n",
       "    <tr>\n",
       "      <th>C</th>\n",
       "      <td>0.559571</td>\n",
       "      <td>-1.458435</td>\n",
       "      <td>0.507670</td>\n",
       "      <td>0.120042</td>\n",
       "      <td>1.067241</td>\n",
       "    </tr>\n",
       "    <tr>\n",
       "      <th>D</th>\n",
       "      <td>-0.734461</td>\n",
       "      <td>1.313855</td>\n",
       "      <td>-1.825820</td>\n",
       "      <td>0.083079</td>\n",
       "      <td>-2.560282</td>\n",
       "    </tr>\n",
       "    <tr>\n",
       "      <th>E</th>\n",
       "      <td>-0.393511</td>\n",
       "      <td>0.224873</td>\n",
       "      <td>0.725181</td>\n",
       "      <td>0.491304</td>\n",
       "      <td>0.331670</td>\n",
       "    </tr>\n",
       "  </tbody>\n",
       "</table>\n",
       "</div>"
      ],
      "text/plain": [
       "          w         x         y         z       new\n",
       "A  0.678273  0.199769 -1.656381 -0.691978 -0.978108\n",
       "B -1.545973  0.604795  2.113241 -0.356914  0.567268\n",
       "C  0.559571 -1.458435  0.507670  0.120042  1.067241\n",
       "D -0.734461  1.313855 -1.825820  0.083079 -2.560282\n",
       "E -0.393511  0.224873  0.725181  0.491304  0.331670"
      ]
     },
     "execution_count": 48,
     "metadata": {},
     "output_type": "execute_result"
    }
   ],
   "source": [
    "df"
   ]
  },
  {
   "cell_type": "code",
   "execution_count": 50,
   "id": "cf88d90f",
   "metadata": {},
   "outputs": [
    {
     "data": {
      "text/html": [
       "<div>\n",
       "<style scoped>\n",
       "    .dataframe tbody tr th:only-of-type {\n",
       "        vertical-align: middle;\n",
       "    }\n",
       "\n",
       "    .dataframe tbody tr th {\n",
       "        vertical-align: top;\n",
       "    }\n",
       "\n",
       "    .dataframe thead th {\n",
       "        text-align: right;\n",
       "    }\n",
       "</style>\n",
       "<table border=\"1\" class=\"dataframe\">\n",
       "  <thead>\n",
       "    <tr style=\"text-align: right;\">\n",
       "      <th></th>\n",
       "      <th>w</th>\n",
       "      <th>x</th>\n",
       "      <th>y</th>\n",
       "      <th>z</th>\n",
       "    </tr>\n",
       "  </thead>\n",
       "  <tbody>\n",
       "    <tr>\n",
       "      <th>A</th>\n",
       "      <td>0.678273</td>\n",
       "      <td>0.199769</td>\n",
       "      <td>-1.656381</td>\n",
       "      <td>-0.691978</td>\n",
       "    </tr>\n",
       "    <tr>\n",
       "      <th>B</th>\n",
       "      <td>-1.545973</td>\n",
       "      <td>0.604795</td>\n",
       "      <td>2.113241</td>\n",
       "      <td>-0.356914</td>\n",
       "    </tr>\n",
       "    <tr>\n",
       "      <th>C</th>\n",
       "      <td>0.559571</td>\n",
       "      <td>-1.458435</td>\n",
       "      <td>0.507670</td>\n",
       "      <td>0.120042</td>\n",
       "    </tr>\n",
       "    <tr>\n",
       "      <th>D</th>\n",
       "      <td>-0.734461</td>\n",
       "      <td>1.313855</td>\n",
       "      <td>-1.825820</td>\n",
       "      <td>0.083079</td>\n",
       "    </tr>\n",
       "    <tr>\n",
       "      <th>E</th>\n",
       "      <td>-0.393511</td>\n",
       "      <td>0.224873</td>\n",
       "      <td>0.725181</td>\n",
       "      <td>0.491304</td>\n",
       "    </tr>\n",
       "  </tbody>\n",
       "</table>\n",
       "</div>"
      ],
      "text/plain": [
       "          w         x         y         z\n",
       "A  0.678273  0.199769 -1.656381 -0.691978\n",
       "B -1.545973  0.604795  2.113241 -0.356914\n",
       "C  0.559571 -1.458435  0.507670  0.120042\n",
       "D -0.734461  1.313855 -1.825820  0.083079\n",
       "E -0.393511  0.224873  0.725181  0.491304"
      ]
     },
     "execution_count": 50,
     "metadata": {},
     "output_type": "execute_result"
    }
   ],
   "source": [
    "df.drop('new',axis=1,inplace=True)#to delete new permanently\n",
    "df"
   ]
  },
  {
   "cell_type": "code",
   "execution_count": 51,
   "id": "81156e6b",
   "metadata": {},
   "outputs": [
    {
     "data": {
      "text/html": [
       "<div>\n",
       "<style scoped>\n",
       "    .dataframe tbody tr th:only-of-type {\n",
       "        vertical-align: middle;\n",
       "    }\n",
       "\n",
       "    .dataframe tbody tr th {\n",
       "        vertical-align: top;\n",
       "    }\n",
       "\n",
       "    .dataframe thead th {\n",
       "        text-align: right;\n",
       "    }\n",
       "</style>\n",
       "<table border=\"1\" class=\"dataframe\">\n",
       "  <thead>\n",
       "    <tr style=\"text-align: right;\">\n",
       "      <th></th>\n",
       "      <th>w</th>\n",
       "      <th>x</th>\n",
       "      <th>y</th>\n",
       "      <th>z</th>\n",
       "    </tr>\n",
       "  </thead>\n",
       "  <tbody>\n",
       "    <tr>\n",
       "      <th>A</th>\n",
       "      <td>0.678273</td>\n",
       "      <td>0.199769</td>\n",
       "      <td>-1.656381</td>\n",
       "      <td>-0.691978</td>\n",
       "    </tr>\n",
       "    <tr>\n",
       "      <th>B</th>\n",
       "      <td>-1.545973</td>\n",
       "      <td>0.604795</td>\n",
       "      <td>2.113241</td>\n",
       "      <td>-0.356914</td>\n",
       "    </tr>\n",
       "    <tr>\n",
       "      <th>C</th>\n",
       "      <td>0.559571</td>\n",
       "      <td>-1.458435</td>\n",
       "      <td>0.507670</td>\n",
       "      <td>0.120042</td>\n",
       "    </tr>\n",
       "    <tr>\n",
       "      <th>D</th>\n",
       "      <td>-0.734461</td>\n",
       "      <td>1.313855</td>\n",
       "      <td>-1.825820</td>\n",
       "      <td>0.083079</td>\n",
       "    </tr>\n",
       "    <tr>\n",
       "      <th>E</th>\n",
       "      <td>-0.393511</td>\n",
       "      <td>0.224873</td>\n",
       "      <td>0.725181</td>\n",
       "      <td>0.491304</td>\n",
       "    </tr>\n",
       "  </tbody>\n",
       "</table>\n",
       "</div>"
      ],
      "text/plain": [
       "          w         x         y         z\n",
       "A  0.678273  0.199769 -1.656381 -0.691978\n",
       "B -1.545973  0.604795  2.113241 -0.356914\n",
       "C  0.559571 -1.458435  0.507670  0.120042\n",
       "D -0.734461  1.313855 -1.825820  0.083079\n",
       "E -0.393511  0.224873  0.725181  0.491304"
      ]
     },
     "execution_count": 51,
     "metadata": {},
     "output_type": "execute_result"
    }
   ],
   "source": [
    "df"
   ]
  },
  {
   "cell_type": "code",
   "execution_count": null,
   "id": "03210d15",
   "metadata": {},
   "outputs": [],
   "source": []
  }
 ],
 "metadata": {
  "kernelspec": {
   "display_name": "Python 3 (ipykernel)",
   "language": "python",
   "name": "python3"
  },
  "language_info": {
   "codemirror_mode": {
    "name": "ipython",
    "version": 3
   },
   "file_extension": ".py",
   "mimetype": "text/x-python",
   "name": "python",
   "nbconvert_exporter": "python",
   "pygments_lexer": "ipython3",
   "version": "3.11.5"
  }
 },
 "nbformat": 4,
 "nbformat_minor": 5
}
